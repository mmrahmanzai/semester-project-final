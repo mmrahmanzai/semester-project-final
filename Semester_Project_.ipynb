{
  "nbformat": 4,
  "nbformat_minor": 0,
  "metadata": {
    "colab": {
      "provenance": []
    },
    "kernelspec": {
      "name": "python3",
      "display_name": "Python 3"
    },
    "language_info": {
      "name": "python"
    }
  },
  "cells": [
    {
      "cell_type": "code",
      "source": [
        "!pip install schedule==1.1.0\n",
        "\n",
        "import datetime\n",
        "import requests\n",
        "import json\n",
        "import pandas as pd\n",
        "import os\n",
        "\n",
        "\n",
        "def fetch_bls_data():\n",
        "\n",
        "    today = datetime.datetime.today() # Establishing a today's date for the start date and end date\n",
        "    if not os.path.exists('data'):\n",
        "        os.makedirs('data')\n",
        "\n",
        "    # Prepping an if statement to run function on a certain day of the month\n",
        "    if today.day == 17:\n",
        "\n",
        "      # Establishing what series IDs will be fetched (only doing 4 to ensure a clean visual)\n",
        "      series_ids = ['CES0000000001','LNS14000000','CUUR0000SA0','WPUFD4'] #Nonfarm Payroll, Unemployment, CPI-U, PPI\n",
        "\n",
        "      # Calculating the start and end year; preperation for gather rolling 12 months of data\n",
        "      start_year = today.year - 1\n",
        "      start_month = today.month - 1\n",
        "      if start_month == 1:\n",
        "        start_month = 12\n",
        "        start_year = today.year - 1\n",
        "\n",
        "      end_year = today.year\n",
        "      end_month = today.month\n",
        "\n",
        "      # Data being requested from BLS\n",
        "      data = json.dumps({\"seriesid\": series_ids, \"startyear\": str(start_year), \"endyear\": str(end_year)})\n",
        "      headers = {'Content-type': 'application/json'}\n",
        "\n",
        "      # Making the API request\n",
        "      response = requests.post('https://api.bls.gov/publicAPI/v1/timeseries/data/', data=data, headers=headers)\n",
        "\n",
        "      # Checking if the request was successful\n",
        "      if response.status_code == 200:\n",
        "          # Parsing the JSON response\n",
        "          data = json.loads(response.text)\n",
        "\n",
        "          # Extracting data into a list of dictionaries\n",
        "          all_data = []\n",
        "          print(data)\n",
        "          month_string = \"\"\n",
        "          # Compare item \"period\" with the intended start_month\n",
        "          if start_month < 10:\n",
        "            month_string = \"M0\" + str(start_month)\n",
        "          else:\n",
        "            month_string = \"M\" + str(start_month)\n",
        "          for series in data['Results']['series']:\n",
        "              series_id = series['seriesID']\n",
        "              for item in series['data']:\n",
        "                if item['year'] == str(start_year) and item['period'] < month_string:\n",
        "                  continue\n",
        "                else:\n",
        "                  row = {\n",
        "                      'seriesID': series_id,\n",
        "                      'year': item['year'],\n",
        "                      'period': item['period'],\n",
        "                      'value': item['value']\n",
        "                  }\n",
        "                  all_data.append(row)\n",
        "\n",
        "          # Creating a Pandas DataFrame\n",
        "          df = pd.DataFrame(all_data)\n",
        "\n",
        "          # Loading existing data from CSV\n",
        "          file_path = 'data/bls_data.csv'\n",
        "\n",
        "          df.to_csv(file_path, index=False)\n",
        "\n",
        "          print(f\"Data fetched and stored to {file_path} successfully!\") # Providing a message if successful\n",
        "\n",
        "      else:\n",
        "          print(f\"Error fetching data: {response.status_code}\") # Error message when data not pulled\n",
        "    else:\n",
        "      print(\"Not the 15th day of the month. Skipping data fetch.\") # If not the specific day of the month, will inform\n",
        "\n",
        "fetch_bls_data()"
      ],
      "metadata": {
        "id": "e4js7VTTq-Z8",
        "colab": {
          "base_uri": "https://localhost:8080/"
        },
        "outputId": "9b3bbdf3-cf07-476b-af9c-c821ce510ccc"
      },
      "execution_count": 4,
      "outputs": [
        {
          "output_type": "stream",
          "name": "stdout",
          "text": [
            "Requirement already satisfied: schedule==1.1.0 in /usr/local/lib/python3.10/dist-packages (1.1.0)\n",
            "{'status': 'REQUEST_SUCCEEDED', 'responseTime': 229, 'message': [], 'Results': {'series': [{'seriesID': 'CES0000000001', 'data': [{'year': '2024', 'period': 'M11', 'periodName': 'November', 'latest': 'true', 'value': '159288', 'footnotes': [{'code': 'P', 'text': 'preliminary'}]}, {'year': '2024', 'period': 'M10', 'periodName': 'October', 'value': '159061', 'footnotes': [{'code': 'P', 'text': 'preliminary'}]}, {'year': '2024', 'period': 'M09', 'periodName': 'September', 'value': '159025', 'footnotes': [{}]}, {'year': '2024', 'period': 'M08', 'periodName': 'August', 'value': '158770', 'footnotes': [{}]}, {'year': '2024', 'period': 'M07', 'periodName': 'July', 'value': '158692', 'footnotes': [{}]}, {'year': '2024', 'period': 'M06', 'periodName': 'June', 'value': '158548', 'footnotes': [{}]}, {'year': '2024', 'period': 'M05', 'periodName': 'May', 'value': '158430', 'footnotes': [{}]}, {'year': '2024', 'period': 'M04', 'periodName': 'April', 'value': '158214', 'footnotes': [{}]}, {'year': '2024', 'period': 'M03', 'periodName': 'March', 'value': '158106', 'footnotes': [{}]}, {'year': '2024', 'period': 'M02', 'periodName': 'February', 'value': '157796', 'footnotes': [{}]}, {'year': '2024', 'period': 'M01', 'periodName': 'January', 'value': '157560', 'footnotes': [{}]}, {'year': '2023', 'period': 'M12', 'periodName': 'December', 'value': '157304', 'footnotes': [{}]}, {'year': '2023', 'period': 'M11', 'periodName': 'November', 'value': '157014', 'footnotes': [{}]}, {'year': '2023', 'period': 'M10', 'periodName': 'October', 'value': '156832', 'footnotes': [{}]}, {'year': '2023', 'period': 'M09', 'periodName': 'September', 'value': '156667', 'footnotes': [{}]}, {'year': '2023', 'period': 'M08', 'periodName': 'August', 'value': '156421', 'footnotes': [{}]}, {'year': '2023', 'period': 'M07', 'periodName': 'July', 'value': '156211', 'footnotes': [{}]}, {'year': '2023', 'period': 'M06', 'periodName': 'June', 'value': '156027', 'footnotes': [{}]}, {'year': '2023', 'period': 'M05', 'periodName': 'May', 'value': '155787', 'footnotes': [{}]}, {'year': '2023', 'period': 'M04', 'periodName': 'April', 'value': '155484', 'footnotes': [{}]}, {'year': '2023', 'period': 'M03', 'periodName': 'March', 'value': '155206', 'footnotes': [{}]}, {'year': '2023', 'period': 'M02', 'periodName': 'February', 'value': '155060', 'footnotes': [{}]}, {'year': '2023', 'period': 'M01', 'periodName': 'January', 'value': '154773', 'footnotes': [{}]}]}, {'seriesID': 'LNS14000000', 'data': [{'year': '2024', 'period': 'M11', 'periodName': 'November', 'latest': 'true', 'value': '4.2', 'footnotes': [{}]}, {'year': '2024', 'period': 'M10', 'periodName': 'October', 'value': '4.1', 'footnotes': [{}]}, {'year': '2024', 'period': 'M09', 'periodName': 'September', 'value': '4.1', 'footnotes': [{}]}, {'year': '2024', 'period': 'M08', 'periodName': 'August', 'value': '4.2', 'footnotes': [{}]}, {'year': '2024', 'period': 'M07', 'periodName': 'July', 'value': '4.3', 'footnotes': [{}]}, {'year': '2024', 'period': 'M06', 'periodName': 'June', 'value': '4.1', 'footnotes': [{}]}, {'year': '2024', 'period': 'M05', 'periodName': 'May', 'value': '4.0', 'footnotes': [{}]}, {'year': '2024', 'period': 'M04', 'periodName': 'April', 'value': '3.9', 'footnotes': [{}]}, {'year': '2024', 'period': 'M03', 'periodName': 'March', 'value': '3.8', 'footnotes': [{}]}, {'year': '2024', 'period': 'M02', 'periodName': 'February', 'value': '3.9', 'footnotes': [{}]}, {'year': '2024', 'period': 'M01', 'periodName': 'January', 'value': '3.7', 'footnotes': [{}]}, {'year': '2023', 'period': 'M12', 'periodName': 'December', 'value': '3.7', 'footnotes': [{}]}, {'year': '2023', 'period': 'M11', 'periodName': 'November', 'value': '3.7', 'footnotes': [{}]}, {'year': '2023', 'period': 'M10', 'periodName': 'October', 'value': '3.8', 'footnotes': [{}]}, {'year': '2023', 'period': 'M09', 'periodName': 'September', 'value': '3.8', 'footnotes': [{}]}, {'year': '2023', 'period': 'M08', 'periodName': 'August', 'value': '3.8', 'footnotes': [{}]}, {'year': '2023', 'period': 'M07', 'periodName': 'July', 'value': '3.5', 'footnotes': [{}]}, {'year': '2023', 'period': 'M06', 'periodName': 'June', 'value': '3.6', 'footnotes': [{}]}, {'year': '2023', 'period': 'M05', 'periodName': 'May', 'value': '3.7', 'footnotes': [{}]}, {'year': '2023', 'period': 'M04', 'periodName': 'April', 'value': '3.4', 'footnotes': [{}]}, {'year': '2023', 'period': 'M03', 'periodName': 'March', 'value': '3.5', 'footnotes': [{}]}, {'year': '2023', 'period': 'M02', 'periodName': 'February', 'value': '3.6', 'footnotes': [{}]}, {'year': '2023', 'period': 'M01', 'periodName': 'January', 'value': '3.4', 'footnotes': [{}]}]}, {'seriesID': 'CUUR0000SA0', 'data': [{'year': '2024', 'period': 'M11', 'periodName': 'November', 'latest': 'true', 'value': '315.493', 'footnotes': [{}]}, {'year': '2024', 'period': 'M10', 'periodName': 'October', 'value': '315.664', 'footnotes': [{}]}, {'year': '2024', 'period': 'M09', 'periodName': 'September', 'value': '315.301', 'footnotes': [{}]}, {'year': '2024', 'period': 'M08', 'periodName': 'August', 'value': '314.796', 'footnotes': [{}]}, {'year': '2024', 'period': 'M07', 'periodName': 'July', 'value': '314.540', 'footnotes': [{}]}, {'year': '2024', 'period': 'M06', 'periodName': 'June', 'value': '314.175', 'footnotes': [{}]}, {'year': '2024', 'period': 'M05', 'periodName': 'May', 'value': '314.069', 'footnotes': [{}]}, {'year': '2024', 'period': 'M04', 'periodName': 'April', 'value': '313.548', 'footnotes': [{}]}, {'year': '2024', 'period': 'M03', 'periodName': 'March', 'value': '312.332', 'footnotes': [{}]}, {'year': '2024', 'period': 'M02', 'periodName': 'February', 'value': '310.326', 'footnotes': [{}]}, {'year': '2024', 'period': 'M01', 'periodName': 'January', 'value': '308.417', 'footnotes': [{}]}, {'year': '2023', 'period': 'M12', 'periodName': 'December', 'value': '306.746', 'footnotes': [{}]}, {'year': '2023', 'period': 'M11', 'periodName': 'November', 'value': '307.051', 'footnotes': [{}]}, {'year': '2023', 'period': 'M10', 'periodName': 'October', 'value': '307.671', 'footnotes': [{}]}, {'year': '2023', 'period': 'M09', 'periodName': 'September', 'value': '307.789', 'footnotes': [{}]}, {'year': '2023', 'period': 'M08', 'periodName': 'August', 'value': '307.026', 'footnotes': [{}]}, {'year': '2023', 'period': 'M07', 'periodName': 'July', 'value': '305.691', 'footnotes': [{}]}, {'year': '2023', 'period': 'M06', 'periodName': 'June', 'value': '305.109', 'footnotes': [{}]}, {'year': '2023', 'period': 'M05', 'periodName': 'May', 'value': '304.127', 'footnotes': [{}]}, {'year': '2023', 'period': 'M04', 'periodName': 'April', 'value': '303.363', 'footnotes': [{}]}, {'year': '2023', 'period': 'M03', 'periodName': 'March', 'value': '301.836', 'footnotes': [{}]}, {'year': '2023', 'period': 'M02', 'periodName': 'February', 'value': '300.840', 'footnotes': [{}]}, {'year': '2023', 'period': 'M01', 'periodName': 'January', 'value': '299.170', 'footnotes': [{}]}]}, {'seriesID': 'WPUFD4', 'data': [{'year': '2024', 'period': 'M11', 'periodName': 'November', 'latest': 'true', 'value': '146.093', 'footnotes': [{'code': 'P', 'text': 'Preliminary. All indexes are subject to monthly revisions up to four months after original publication.'}]}, {'year': '2024', 'period': 'M10', 'periodName': 'October', 'value': '145.997', 'footnotes': [{'code': 'P', 'text': 'Preliminary. All indexes are subject to monthly revisions up to four months after original publication.'}]}, {'year': '2024', 'period': 'M09', 'periodName': 'September', 'value': '145.523', 'footnotes': [{'code': 'P', 'text': 'Preliminary. All indexes are subject to monthly revisions up to four months after original publication.'}]}, {'year': '2024', 'period': 'M08', 'periodName': 'August', 'value': '145.566', 'footnotes': [{'code': 'P', 'text': 'Preliminary. All indexes are subject to monthly revisions up to four months after original publication.'}]}, {'year': '2024', 'period': 'M07', 'periodName': 'July', 'value': '145.264', 'footnotes': [{}]}, {'year': '2024', 'period': 'M06', 'periodName': 'June', 'value': '145.321', 'footnotes': [{}]}, {'year': '2024', 'period': 'M05', 'periodName': 'May', 'value': '144.504', 'footnotes': [{}]}, {'year': '2024', 'period': 'M04', 'periodName': 'April', 'value': '144.563', 'footnotes': [{}]}, {'year': '2024', 'period': 'M03', 'periodName': 'March', 'value': '143.784', 'footnotes': [{}]}, {'year': '2024', 'period': 'M02', 'periodName': 'February', 'value': '143.260', 'footnotes': [{}]}, {'year': '2024', 'period': 'M01', 'periodName': 'January', 'value': '142.186', 'footnotes': [{}]}, {'year': '2023', 'period': 'M12', 'periodName': 'December', 'value': '141.267', 'footnotes': [{}]}, {'year': '2023', 'period': 'M11', 'periodName': 'November', 'value': '141.869', 'footnotes': [{}]}, {'year': '2023', 'period': 'M10', 'periodName': 'October', 'value': '142.258', 'footnotes': [{}]}, {'year': '2023', 'period': 'M09', 'periodName': 'September', 'value': '142.618', 'footnotes': [{}]}, {'year': '2023', 'period': 'M08', 'periodName': 'August', 'value': '142.641', 'footnotes': [{}]}, {'year': '2023', 'period': 'M07', 'periodName': 'July', 'value': '141.871', 'footnotes': [{}]}, {'year': '2023', 'period': 'M06', 'periodName': 'June', 'value': '141.181', 'footnotes': [{}]}, {'year': '2023', 'period': 'M05', 'periodName': 'May', 'value': '140.912', 'footnotes': [{}]}, {'year': '2023', 'period': 'M04', 'periodName': 'April', 'value': '141.303', 'footnotes': [{}]}, {'year': '2023', 'period': 'M03', 'periodName': 'March', 'value': '140.995', 'footnotes': [{}]}, {'year': '2023', 'period': 'M02', 'periodName': 'February', 'value': '140.956', 'footnotes': [{}]}, {'year': '2023', 'period': 'M01', 'periodName': 'January', 'value': '140.713', 'footnotes': [{}]}]}]}}\n",
            "Data fetched and stored to data/bls_data.csv successfully!\n"
          ]
        }
      ]
    }
  ]
}